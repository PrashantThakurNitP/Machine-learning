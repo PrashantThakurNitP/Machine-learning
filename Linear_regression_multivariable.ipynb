{
 "cells": [
  {
   "cell_type": "code",
   "execution_count": 1,
   "metadata": {},
   "outputs": [],
   "source": [
    "import numpy as np\n",
    "import pandas as pd\n",
    "import matplotlib.pyplot as plt\n",
    "\n",
    "# final hyponesis fn first substact test data by mean of  and divide by standard deviation(of training data )\n",
    "#then input it to test data for output"
   ]
  },
  {
   "cell_type": "code",
   "execution_count": 2,
   "metadata": {},
   "outputs": [
    {
     "data": {
      "text/html": [
       "<div>\n",
       "<style scoped>\n",
       "    .dataframe tbody tr th:only-of-type {\n",
       "        vertical-align: middle;\n",
       "    }\n",
       "\n",
       "    .dataframe tbody tr th {\n",
       "        vertical-align: top;\n",
       "    }\n",
       "\n",
       "    .dataframe thead th {\n",
       "        text-align: right;\n",
       "    }\n",
       "</style>\n",
       "<table border=\"1\" class=\"dataframe\">\n",
       "  <thead>\n",
       "    <tr style=\"text-align: right;\">\n",
       "      <th></th>\n",
       "      <th>2104</th>\n",
       "      <th>3</th>\n",
       "      <th>399900</th>\n",
       "    </tr>\n",
       "  </thead>\n",
       "  <tbody>\n",
       "    <tr>\n",
       "      <td>0</td>\n",
       "      <td>1600</td>\n",
       "      <td>3</td>\n",
       "      <td>329900</td>\n",
       "    </tr>\n",
       "    <tr>\n",
       "      <td>1</td>\n",
       "      <td>2400</td>\n",
       "      <td>3</td>\n",
       "      <td>369000</td>\n",
       "    </tr>\n",
       "    <tr>\n",
       "      <td>2</td>\n",
       "      <td>1416</td>\n",
       "      <td>2</td>\n",
       "      <td>232000</td>\n",
       "    </tr>\n",
       "    <tr>\n",
       "      <td>3</td>\n",
       "      <td>3000</td>\n",
       "      <td>4</td>\n",
       "      <td>539900</td>\n",
       "    </tr>\n",
       "    <tr>\n",
       "      <td>4</td>\n",
       "      <td>1985</td>\n",
       "      <td>4</td>\n",
       "      <td>299900</td>\n",
       "    </tr>\n",
       "  </tbody>\n",
       "</table>\n",
       "</div>"
      ],
      "text/plain": [
       "   2104  3  399900\n",
       "0  1600  3  329900\n",
       "1  2400  3  369000\n",
       "2  1416  2  232000\n",
       "3  3000  4  539900\n",
       "4  1985  4  299900"
      ]
     },
     "execution_count": 2,
     "metadata": {},
     "output_type": "execute_result"
    }
   ],
   "source": [
    "df1=pd.read_csv('C:\\\\Users\\PRASHANT\\\\Desktop\\\\coding dec19\\\\weather-data-in-new-york-city-2016\\\\ex1data2.csv')\n",
    "df1.head()"
   ]
  },
  {
   "cell_type": "code",
   "execution_count": 3,
   "metadata": {},
   "outputs": [
    {
     "name": "stdout",
     "output_type": "stream",
     "text": [
      "m= 46, n=3 \n"
     ]
    }
   ],
   "source": [
    "x1=df1.iloc[:,[0]]\n",
    "x2=df1.iloc[:,[1]]\n",
    "y=df1.iloc[:,[2]]\n",
    "m,n=df1.shape\n",
    "print(\"m= {}, n={} \".format(m,n))"
   ]
  },
  {
   "cell_type": "code",
   "execution_count": 27,
   "metadata": {},
   "outputs": [
    {
     "name": "stdout",
     "output_type": "stream",
     "text": [
      "[[ 0.60564718]\n",
      " [ 1.65764438]\n",
      " [ 0.48044891]\n",
      " [ 3.52732208]\n",
      " [ 0.98323355]\n",
      " [ 0.55737153]\n",
      " [ 0.48714663]\n",
      " [ 0.45916628]\n",
      " [ 0.53000651]\n",
      " [ 0.92909507]\n",
      " [ 1.00197188]\n",
      " [ 0.87243017]\n",
      " [22.6623281 ]\n",
      " [ 0.39879707]\n",
      " [ 1.46161303]\n",
      " [ 0.42576956]\n",
      " [ 0.38305496]\n",
      " [ 2.15639635]\n",
      " [ 3.66766274]\n",
      " [ 0.74730891]\n",
      " [ 0.87023691]\n",
      " [ 0.60870386]\n",
      " [ 0.9551798 ]\n",
      " [10.81209485]\n",
      " [ 0.32279359]\n",
      " [ 0.50652861]\n",
      " [ 1.9425028 ]\n",
      " [ 1.28876416]\n",
      " [ 2.23374245]\n",
      " [ 0.81819083]\n",
      " [ 0.28462035]\n",
      " [ 1.05370518]\n",
      " [ 4.19109871]\n",
      " [ 0.78985996]\n",
      " [ 0.49331645]\n",
      " [ 0.384504  ]\n",
      " [ 1.18305615]\n",
      " [16.2761417 ]\n",
      " [ 1.22857888]\n",
      " [ 0.65644966]\n",
      " [ 1.35189777]\n",
      " [ 2.04536974]\n",
      " [ 0.36608663]\n",
      " [ 0.23624939]\n",
      " [ 0.83168769]\n",
      " [ 0.36747147]]\n"
     ]
    }
   ],
   "source": [
    "import math \n",
    "x111=np.exp(x1)\n",
    "print(x111)"
   ]
  },
  {
   "cell_type": "code",
   "execution_count": 4,
   "metadata": {},
   "outputs": [
    {
     "name": "stdout",
     "output_type": "stream",
     "text": [
      "(46, 1) <class 'numpy.ndarray'>\n"
     ]
    }
   ],
   "source": [
    "x1=np.array(x1)\n",
    "#print(x1)\n",
    "x11=np.ones([46,1])\n",
    "x11=x11*x1.mean()\n",
    "x1sub=x1.mean() #used later\n",
    "x1=(x1-x11)\n",
    "x1div=x1.std()#used later\n",
    "x1=x1/x1.std()\n",
    "\n",
    "#x1=x1-(np.ones([46,1]))* x1.mean\n",
    "#print(x11)\n",
    "#print(x1)\n",
    "print(x1.shape,type(x1))\n"
   ]
  },
  {
   "cell_type": "code",
   "execution_count": 5,
   "metadata": {},
   "outputs": [
    {
     "name": "stdout",
     "output_type": "stream",
     "text": [
      "(46, 1) <class 'numpy.ndarray'>\n"
     ]
    }
   ],
   "source": [
    "x2=np.array(x2)\n",
    "\n",
    "x21=np.ones([46,1])\n",
    "x21=x21*x2.mean()\n",
    "x2sub=x2.mean() #used later\n",
    "x2=(x2-x21)\n",
    "x2div=x2.std()#used later\n",
    "x2=x2/x2.std()\n",
    "\n",
    "#x1=x1-(np.ones([46,1]))* x1.mean\n",
    "#print(x11)\n",
    "print(x2.shape,type(x2))"
   ]
  },
  {
   "cell_type": "code",
   "execution_count": 6,
   "metadata": {},
   "outputs": [
    {
     "name": "stdout",
     "output_type": "stream",
     "text": [
      "(46, 1) <class 'numpy.ndarray'>\n"
     ]
    }
   ],
   "source": [
    "Y=np.array(y)\n",
    "print(x2.shape,type(x2))"
   ]
  },
  {
   "cell_type": "code",
   "execution_count": 7,
   "metadata": {},
   "outputs": [
    {
     "name": "stdout",
     "output_type": "stream",
     "text": [
      "[[ 1.00000000e+00 -5.01457678e-01 -2.28664780e-01]\n",
      " [ 1.00000000e+00  5.05397546e-01 -2.28664780e-01]\n",
      " [ 1.00000000e+00 -7.33034380e-01 -1.54348727e+00]\n",
      " [ 1.00000000e+00  1.26053896e+00  1.08615771e+00]\n",
      " [ 1.00000000e+00 -1.69086013e-02  1.08615771e+00]\n",
      " [ 1.00000000e+00 -5.84523234e-01 -2.28664780e-01]\n",
      " [ 1.00000000e+00 -7.19190120e-01 -2.28664780e-01]\n",
      " [ 1.00000000e+00 -7.78342865e-01 -2.28664780e-01]\n",
      " [ 1.00000000e+00 -6.34865995e-01 -2.28664780e-01]\n",
      " [ 1.00000000e+00 -7.35442077e-02  1.08615771e+00]\n",
      " [ 1.00000000e+00  1.96993413e-03 -2.28664780e-01]\n",
      " [ 1.00000000e+00 -1.36472659e-01 -2.28664780e-01]\n",
      " [ 1.00000000e+00  3.12070399e+00  2.40098019e+00]\n",
      " [ 1.00000000e+00 -9.19302596e-01 -2.28664780e-01]\n",
      " [ 1.00000000e+00  3.79540643e-01  1.08615771e+00]\n",
      " [ 1.00000000e+00 -8.53857006e-01 -1.54348727e+00]\n",
      " [ 1.00000000e+00 -9.59576805e-01 -2.28664780e-01]\n",
      " [ 1.00000000e+00  7.68438474e-01  1.08615771e+00]\n",
      " [ 1.00000000e+00  1.29955460e+00  1.08615771e+00]\n",
      " [ 1.00000000e+00 -2.91276650e-01 -2.28664780e-01]\n",
      " [ 1.00000000e+00 -1.38989797e-01 -1.54348727e+00]\n",
      " [ 1.00000000e+00 -4.96423402e-01 -2.28664780e-01]\n",
      " [ 1.00000000e+00 -4.58556890e-02  1.08615771e+00]\n",
      " [ 1.00000000e+00  2.38066540e+00 -2.28664780e-01]\n",
      " [ 1.00000000e+00 -1.13074219e+00 -2.28664780e-01]\n",
      " [ 1.00000000e+00 -6.80174480e-01 -2.28664780e-01]\n",
      " [ 1.00000000e+00  6.63977244e-01 -2.28664780e-01]\n",
      " [ 1.00000000e+00  2.53683740e-01 -2.28664780e-01]\n",
      " [ 1.00000000e+00  8.03678406e-01 -2.28664780e-01]\n",
      " [ 1.00000000e+00 -2.00659680e-01 -1.54348727e+00]\n",
      " [ 1.00000000e+00 -1.25659910e+00 -2.85830975e+00]\n",
      " [ 1.00000000e+00  5.23126953e-02  1.08615771e+00]\n",
      " [ 1.00000000e+00  1.43296292e+00 -2.28664780e-01]\n",
      " [ 1.00000000e+00 -2.35899613e-01  1.08615771e+00]\n",
      " [ 1.00000000e+00 -7.06604430e-01 -2.28664780e-01]\n",
      " [ 1.00000000e+00 -9.55801098e-01 -2.28664780e-01]\n",
      " [ 1.00000000e+00  1.68101046e-01  1.08615771e+00]\n",
      " [ 1.00000000e+00  2.78970034e+00  1.08615771e+00]\n",
      " [ 1.00000000e+00  2.05858117e-01  1.08615771e+00]\n",
      " [ 1.00000000e+00 -4.20909260e-01 -1.54348727e+00]\n",
      " [ 1.00000000e+00  3.01509363e-01 -2.28664780e-01]\n",
      " [ 1.00000000e+00  7.15578574e-01  1.08615771e+00]\n",
      " [ 1.00000000e+00 -1.00488529e+00 -2.28664780e-01]\n",
      " [ 1.00000000e+00 -1.44286731e+00 -1.54348727e+00]\n",
      " [ 1.00000000e+00 -1.84298282e-01  1.08615771e+00]\n",
      " [ 1.00000000e+00 -1.00110958e+00 -2.28664780e-01]]\n"
     ]
    }
   ],
   "source": [
    "x0=np.ones([m,1])\n",
    "X=np.hstack([x0,x1,x2])\n",
    "print(X)"
   ]
  },
  {
   "cell_type": "code",
   "execution_count": 8,
   "metadata": {},
   "outputs": [],
   "source": [
    "theta=np.zeros([n,1])\n",
    "alpha=0.01"
   ]
  },
  {
   "cell_type": "code",
   "execution_count": 9,
   "metadata": {},
   "outputs": [
    {
     "data": {
      "text/plain": [
       "array([[0.],\n",
       "       [0.],\n",
       "       [0.]])"
      ]
     },
     "execution_count": 9,
     "metadata": {},
     "output_type": "execute_result"
    }
   ],
   "source": [
    "theta"
   ]
  },
  {
   "cell_type": "code",
   "execution_count": 10,
   "metadata": {},
   "outputs": [
    {
     "name": "stdout",
     "output_type": "stream",
     "text": [
      "65279190347.902176\n"
     ]
    }
   ],
   "source": [
    "X2=X.dot(theta)-Y\n",
    "X3=X2**2 #perform element wise square\n",
    "cost=(1/(2*m))*np.sum(X3)\n",
    "cost=float(cost)\n",
    "print(cost)"
   ]
  },
  {
   "cell_type": "code",
   "execution_count": 11,
   "metadata": {},
   "outputs": [
    {
     "name": "stdout",
     "output_type": "stream",
     "text": [
      "[15599495]\n"
     ]
    }
   ],
   "source": [
    "print(sum(Y))"
   ]
  },
  {
   "cell_type": "code",
   "execution_count": 12,
   "metadata": {},
   "outputs": [
    {
     "name": "stdout",
     "output_type": "stream",
     "text": [
      "i1 = 0, cost = 63991066711.0601 \n",
      "i1 = 50, cost = 24493894628.051872 \n",
      "i1 = 100, cost = 10405299317.973822 \n",
      "i1 = 150, cost = 5261074764.234554 \n",
      "i1 = 200, cost = 3339665866.8372273 \n",
      "i1 = 250, cost = 2601934905.4366965 \n",
      "i1 = 300, cost = 2307719984.292788 \n",
      "i1 = 350, cost = 2184037515.778117 \n",
      "i1 = 400, cost = 2128380587.1329525 \n",
      "i1 = 450, cost = 2101301647.496394 \n",
      "i1 = 500, cost = 2087066538.0867372 \n",
      "i1 = 550, cost = 2079070692.116691 \n",
      "i1 = 600, cost = 2074349822.4680607 \n",
      "i1 = 650, cost = 2071466238.6536934 \n",
      "i1 = 700, cost = 2069666455.4337301 \n",
      "i1 = 750, cost = 2068528289.3128707 \n",
      "i1 = 800, cost = 2067802920.8273153 \n",
      "i1 = 850, cost = 2067338545.1967747 \n",
      "i1 = 900, cost = 2067040482.7127893 \n",
      "i1 = 950, cost = 2066848884.8907642 \n",
      "i1 = 1000, cost = 2066725619.2213562 \n",
      "i1 = 1050, cost = 2066646277.1502001 \n",
      "i1 = 1100, cost = 2066595193.2161078 \n",
      "i1 = 1150, cost = 2066562297.9766676 \n",
      "i1 = 1200, cost = 2066541113.3711898 \n",
      "i1 = 1250, cost = 2066527469.7498257 \n",
      "i1 = 1300, cost = 2066518682.5316 \n",
      "i1 = 1350, cost = 2066513023.0030372 \n",
      "i1 = 1400, cost = 2066509377.8721266 \n",
      "i1 = 1450, cost = 2066507030.141346 \n",
      "i1 = 1500, cost = 2066505518.0265605 \n",
      "i1 = 1550, cost = 2066504544.1095192 \n",
      "i1 = 1600, cost = 2066503916.8321917 \n",
      "i1 = 1650, cost = 2066503512.8172235 \n",
      "i1 = 1700, cost = 2066503252.6003487 \n",
      "i1 = 1750, cost = 2066503085.0005348 \n",
      "i1 = 1800, cost = 2066502977.0532668 \n",
      "i1 = 1850, cost = 2066502907.5268576 \n",
      "i1 = 1900, cost = 2066502862.7464583 \n",
      "i1 = 1950, cost = 2066502833.9044073 \n",
      "i1 = 2000, cost = 2066502815.3278902 \n",
      "i1 = 2050, cost = 2066502803.363172 \n",
      "i1 = 2100, cost = 2066502795.656965 \n",
      "i1 = 2150, cost = 2066502790.6935704 \n",
      "i1 = 2200, cost = 2066502787.4967587 \n",
      "i1 = 2250, cost = 2066502785.437764 \n",
      "i1 = 2300, cost = 2066502784.1116116 \n",
      "i1 = 2350, cost = 2066502783.2574677 \n",
      "i1 = 2400, cost = 2066502782.7073314 \n",
      "i1 = 2450, cost = 2066502782.3530014 \n",
      "i1 = 2500, cost = 2066502782.1247857 \n",
      "i1 = 2550, cost = 2066502781.977797 \n",
      "i1 = 2600, cost = 2066502781.8831248 \n",
      "i1 = 2650, cost = 2066502781.8221478 \n",
      "i1 = 2700, cost = 2066502781.782875 \n",
      "i1 = 2750, cost = 2066502781.7575793 \n",
      "i1 = 2800, cost = 2066502781.7412882 \n",
      "i1 = 2850, cost = 2066502781.7307944 \n",
      "i1 = 2900, cost = 2066502781.7240362 \n",
      "i1 = 2950, cost = 2066502781.719683 \n",
      "i1 = 3000, cost = 2066502781.7168791 \n",
      "i1 = 3050, cost = 2066502781.7150736 \n",
      "i1 = 3100, cost = 2066502781.7139103 \n",
      "i1 = 3150, cost = 2066502781.7131612 \n",
      "i1 = 3200, cost = 2066502781.7126787 \n",
      "i1 = 3250, cost = 2066502781.7123678 \n",
      "i1 = 3300, cost = 2066502781.712168 \n",
      "i1 = 3350, cost = 2066502781.7120383 \n",
      "i1 = 3400, cost = 2066502781.7119565 \n",
      "i1 = 3450, cost = 2066502781.7119026 \n",
      "i1 = 3500, cost = 2066502781.7118676 \n",
      "i1 = 3550, cost = 2066502781.7118464 \n",
      "i1 = 3600, cost = 2066502781.711831 \n",
      "i1 = 3650, cost = 2066502781.7118225 \n",
      "i1 = 3700, cost = 2066502781.7118168 \n",
      "i1 = 3750, cost = 2066502781.7118125 \n",
      "i1 = 3800, cost = 2066502781.7118099 \n",
      "i1 = 3850, cost = 2066502781.711809 \n",
      "i1 = 3900, cost = 2066502781.711808 \n",
      "i1 = 3950, cost = 2066502781.7118068 \n",
      "i1 = 4000, cost = 2066502781.7118058 \n",
      "i1 = 4050, cost = 2066502781.7118063 \n",
      "i1 = 4100, cost = 2066502781.7118063 \n",
      "i1 = 4150, cost = 2066502781.711805 \n",
      "i1 = 4200, cost = 2066502781.7118063 \n",
      "i1 = 4250, cost = 2066502781.7118056 \n",
      "i1 = 4300, cost = 2066502781.7118056 \n",
      "i1 = 4350, cost = 2066502781.7118056 \n",
      "i1 = 4400, cost = 2066502781.7118058 \n",
      "i1 = 4450, cost = 2066502781.7118056 \n",
      "i1 = 4500, cost = 2066502781.7118056 \n",
      "i1 = 4550, cost = 2066502781.7118049 \n",
      "i1 = 4600, cost = 2066502781.7118058 \n",
      "i1 = 4650, cost = 2066502781.7118056 \n",
      "i1 = 4700, cost = 2066502781.7118056 \n",
      "i1 = 4750, cost = 2066502781.7118058 \n",
      "i1 = 4800, cost = 2066502781.7118063 \n",
      "i1 = 4850, cost = 2066502781.711805 \n",
      "i1 = 4900, cost = 2066502781.7118058 \n",
      "i1 = 4950, cost = 2066502781.7118049 \n",
      "i1 = 5000, cost = 2066502781.7118058 \n",
      "i1 = 5050, cost = 2066502781.7118056 \n",
      "i1 = 5100, cost = 2066502781.711805 \n",
      "i1 = 5150, cost = 2066502781.7118058 \n",
      "i1 = 5200, cost = 2066502781.7118056 \n",
      "i1 = 5250, cost = 2066502781.7118056 \n",
      "i1 = 5300, cost = 2066502781.7118056 \n",
      "i1 = 5350, cost = 2066502781.7118058 \n",
      "i1 = 5400, cost = 2066502781.7118058 \n",
      "i1 = 5450, cost = 2066502781.7118056 \n",
      "i1 = 5500, cost = 2066502781.7118058 \n",
      "i1 = 5550, cost = 2066502781.7118056 \n",
      "i1 = 5600, cost = 2066502781.711805 \n",
      "i1 = 5650, cost = 2066502781.7118058 \n",
      "i1 = 5700, cost = 2066502781.7118058 \n",
      "i1 = 5750, cost = 2066502781.7118056 \n",
      "i1 = 5800, cost = 2066502781.7118058 \n",
      "i1 = 5850, cost = 2066502781.711805 \n",
      "i1 = 5900, cost = 2066502781.7118056 \n",
      "i1 = 5950, cost = 2066502781.7118063 \n",
      "i1 = 6000, cost = 2066502781.7118056 \n",
      "i1 = 6050, cost = 2066502781.7118058 \n",
      "i1 = 6100, cost = 2066502781.7118056 \n",
      "i1 = 6150, cost = 2066502781.7118058 \n",
      "i1 = 6200, cost = 2066502781.7118056 \n",
      "i1 = 6250, cost = 2066502781.7118058 \n",
      "i1 = 6300, cost = 2066502781.711805 \n",
      "i1 = 6350, cost = 2066502781.7118056 \n",
      "i1 = 6400, cost = 2066502781.7118058 \n",
      "i1 = 6450, cost = 2066502781.7118056 \n",
      "i1 = 6500, cost = 2066502781.7118056 \n",
      "i1 = 6550, cost = 2066502781.7118056 \n",
      "i1 = 6600, cost = 2066502781.7118063 \n",
      "i1 = 6650, cost = 2066502781.7118063 \n",
      "i1 = 6700, cost = 2066502781.7118056 \n",
      "i1 = 6750, cost = 2066502781.7118058 \n",
      "i1 = 6800, cost = 2066502781.711805 \n",
      "i1 = 6850, cost = 2066502781.7118058 \n",
      "i1 = 6900, cost = 2066502781.711805 \n",
      "i1 = 6950, cost = 2066502781.7118058 \n",
      "i1 = 7000, cost = 2066502781.7118056 \n",
      "i1 = 7050, cost = 2066502781.711805 \n",
      "i1 = 7100, cost = 2066502781.7118058 \n",
      "i1 = 7150, cost = 2066502781.7118063 \n",
      "i1 = 7200, cost = 2066502781.7118058 \n",
      "i1 = 7250, cost = 2066502781.7118058 \n",
      "i1 = 7300, cost = 2066502781.7118056 \n",
      "i1 = 7350, cost = 2066502781.7118056 \n",
      "i1 = 7400, cost = 2066502781.7118056 \n",
      "i1 = 7450, cost = 2066502781.7118063 \n",
      "i1 = 7500, cost = 2066502781.7118063 \n",
      "i1 = 7550, cost = 2066502781.711805 \n",
      "i1 = 7600, cost = 2066502781.711805 \n",
      "i1 = 7650, cost = 2066502781.711805 \n",
      "i1 = 7700, cost = 2066502781.711805 \n",
      "i1 = 7750, cost = 2066502781.711805 \n",
      "i1 = 7800, cost = 2066502781.711805 \n",
      "i1 = 7850, cost = 2066502781.711805 \n",
      "i1 = 7900, cost = 2066502781.711805 \n",
      "i1 = 7950, cost = 2066502781.711805 \n",
      "i1 = 8000, cost = 2066502781.711805 \n",
      "i1 = 8050, cost = 2066502781.711805 \n",
      "i1 = 8100, cost = 2066502781.711805 \n",
      "i1 = 8150, cost = 2066502781.711805 \n",
      "i1 = 8200, cost = 2066502781.711805 \n",
      "i1 = 8250, cost = 2066502781.711805 \n",
      "i1 = 8300, cost = 2066502781.711805 \n",
      "i1 = 8350, cost = 2066502781.711805 \n",
      "i1 = 8400, cost = 2066502781.711805 \n",
      "i1 = 8450, cost = 2066502781.711805 \n",
      "i1 = 8500, cost = 2066502781.711805 \n",
      "i1 = 8550, cost = 2066502781.711805 \n",
      "i1 = 8600, cost = 2066502781.711805 \n",
      "i1 = 8650, cost = 2066502781.711805 \n",
      "i1 = 8700, cost = 2066502781.711805 \n",
      "i1 = 8750, cost = 2066502781.711805 \n",
      "i1 = 8800, cost = 2066502781.711805 \n",
      "i1 = 8850, cost = 2066502781.711805 \n",
      "i1 = 8900, cost = 2066502781.711805 \n",
      "i1 = 8950, cost = 2066502781.711805 \n",
      "i1 = 9000, cost = 2066502781.711805 \n",
      "i1 = 9050, cost = 2066502781.711805 \n",
      "i1 = 9100, cost = 2066502781.711805 \n",
      "i1 = 9150, cost = 2066502781.711805 \n",
      "i1 = 9200, cost = 2066502781.711805 \n",
      "i1 = 9250, cost = 2066502781.711805 \n",
      "i1 = 9300, cost = 2066502781.711805 \n",
      "i1 = 9350, cost = 2066502781.711805 \n",
      "i1 = 9400, cost = 2066502781.711805 \n",
      "i1 = 9450, cost = 2066502781.711805 \n",
      "i1 = 9500, cost = 2066502781.711805 \n",
      "i1 = 9550, cost = 2066502781.711805 \n",
      "i1 = 9600, cost = 2066502781.711805 \n",
      "i1 = 9650, cost = 2066502781.711805 \n",
      "i1 = 9700, cost = 2066502781.711805 \n",
      "i1 = 9750, cost = 2066502781.711805 \n",
      "i1 = 9800, cost = 2066502781.711805 \n",
      "i1 = 9850, cost = 2066502781.711805 \n",
      "i1 = 9900, cost = 2066502781.711805 \n",
      "i1 = 9950, cost = 2066502781.711805 \n",
      "i1 = 10000, cost = 2066502781.711805 \n",
      "i1 = 10050, cost = 2066502781.711805 \n",
      "i1 = 10100, cost = 2066502781.711805 \n",
      "i1 = 10150, cost = 2066502781.711805 \n",
      "i1 = 10200, cost = 2066502781.711805 \n",
      "i1 = 10250, cost = 2066502781.711805 \n",
      "i1 = 10300, cost = 2066502781.711805 \n",
      "i1 = 10350, cost = 2066502781.711805 \n",
      "i1 = 10400, cost = 2066502781.711805 \n",
      "i1 = 10450, cost = 2066502781.711805 \n",
      "i1 = 10500, cost = 2066502781.711805 \n",
      "i1 = 10550, cost = 2066502781.711805 \n",
      "i1 = 10600, cost = 2066502781.711805 \n",
      "i1 = 10650, cost = 2066502781.711805 \n",
      "i1 = 10700, cost = 2066502781.711805 \n",
      "i1 = 10750, cost = 2066502781.711805 \n",
      "i1 = 10800, cost = 2066502781.711805 \n",
      "i1 = 10850, cost = 2066502781.711805 \n",
      "i1 = 10900, cost = 2066502781.711805 \n",
      "i1 = 10950, cost = 2066502781.711805 \n",
      "i1 = 11000, cost = 2066502781.711805 \n",
      "i1 = 11050, cost = 2066502781.711805 \n",
      "i1 = 11100, cost = 2066502781.711805 \n",
      "i1 = 11150, cost = 2066502781.711805 \n",
      "i1 = 11200, cost = 2066502781.711805 \n",
      "i1 = 11250, cost = 2066502781.711805 \n",
      "i1 = 11300, cost = 2066502781.711805 \n",
      "i1 = 11350, cost = 2066502781.711805 \n",
      "i1 = 11400, cost = 2066502781.711805 \n",
      "i1 = 11450, cost = 2066502781.711805 \n",
      "i1 = 11500, cost = 2066502781.711805 \n",
      "i1 = 11550, cost = 2066502781.711805 \n",
      "i1 = 11600, cost = 2066502781.711805 \n",
      "i1 = 11650, cost = 2066502781.711805 \n",
      "i1 = 11700, cost = 2066502781.711805 \n",
      "i1 = 11750, cost = 2066502781.711805 \n",
      "i1 = 11800, cost = 2066502781.711805 \n",
      "i1 = 11850, cost = 2066502781.711805 \n",
      "i1 = 11900, cost = 2066502781.711805 \n",
      "i1 = 11950, cost = 2066502781.711805 \n",
      "i1 = 12000, cost = 2066502781.711805 \n",
      "i1 = 12050, cost = 2066502781.711805 \n",
      "i1 = 12100, cost = 2066502781.711805 \n",
      "i1 = 12150, cost = 2066502781.711805 \n",
      "i1 = 12200, cost = 2066502781.711805 \n",
      "i1 = 12250, cost = 2066502781.711805 \n",
      "i1 = 12300, cost = 2066502781.711805 \n",
      "i1 = 12350, cost = 2066502781.711805 \n",
      "i1 = 12400, cost = 2066502781.711805 \n",
      "i1 = 12450, cost = 2066502781.711805 \n",
      "i1 = 12500, cost = 2066502781.711805 \n",
      "i1 = 12550, cost = 2066502781.711805 \n",
      "i1 = 12600, cost = 2066502781.711805 \n",
      "i1 = 12650, cost = 2066502781.711805 \n",
      "i1 = 12700, cost = 2066502781.711805 \n",
      "i1 = 12750, cost = 2066502781.711805 \n",
      "i1 = 12800, cost = 2066502781.711805 \n"
     ]
    },
    {
     "name": "stdout",
     "output_type": "stream",
     "text": [
      "i1 = 12850, cost = 2066502781.711805 \n",
      "i1 = 12900, cost = 2066502781.711805 \n",
      "i1 = 12950, cost = 2066502781.711805 \n",
      "i1 = 13000, cost = 2066502781.711805 \n",
      "i1 = 13050, cost = 2066502781.711805 \n",
      "i1 = 13100, cost = 2066502781.711805 \n",
      "i1 = 13150, cost = 2066502781.711805 \n",
      "i1 = 13200, cost = 2066502781.711805 \n",
      "i1 = 13250, cost = 2066502781.711805 \n",
      "i1 = 13300, cost = 2066502781.711805 \n",
      "i1 = 13350, cost = 2066502781.711805 \n",
      "i1 = 13400, cost = 2066502781.711805 \n",
      "i1 = 13450, cost = 2066502781.711805 \n",
      "i1 = 13500, cost = 2066502781.711805 \n",
      "i1 = 13550, cost = 2066502781.711805 \n",
      "i1 = 13600, cost = 2066502781.711805 \n",
      "i1 = 13650, cost = 2066502781.711805 \n",
      "i1 = 13700, cost = 2066502781.711805 \n",
      "i1 = 13750, cost = 2066502781.711805 \n",
      "i1 = 13800, cost = 2066502781.711805 \n",
      "i1 = 13850, cost = 2066502781.711805 \n",
      "i1 = 13900, cost = 2066502781.711805 \n",
      "i1 = 13950, cost = 2066502781.711805 \n",
      "i1 = 14000, cost = 2066502781.711805 \n",
      "i1 = 14050, cost = 2066502781.711805 \n",
      "i1 = 14100, cost = 2066502781.711805 \n",
      "i1 = 14150, cost = 2066502781.711805 \n",
      "i1 = 14200, cost = 2066502781.711805 \n",
      "i1 = 14250, cost = 2066502781.711805 \n",
      "i1 = 14300, cost = 2066502781.711805 \n",
      "i1 = 14350, cost = 2066502781.711805 \n",
      "i1 = 14400, cost = 2066502781.711805 \n",
      "i1 = 14450, cost = 2066502781.711805 \n",
      "i1 = 14500, cost = 2066502781.711805 \n",
      "i1 = 14550, cost = 2066502781.711805 \n",
      "i1 = 14600, cost = 2066502781.711805 \n",
      "i1 = 14650, cost = 2066502781.711805 \n",
      "i1 = 14700, cost = 2066502781.711805 \n",
      "i1 = 14750, cost = 2066502781.711805 \n",
      "i1 = 14800, cost = 2066502781.711805 \n",
      "i1 = 14850, cost = 2066502781.711805 \n",
      "i1 = 14900, cost = 2066502781.711805 \n",
      "i1 = 14950, cost = 2066502781.711805 \n"
     ]
    }
   ],
   "source": [
    "\n",
    "lx=[]\n",
    "lx.append(0)\n",
    "ly=[]\n",
    "ly.append(cost)\n",
    "for i1 in range(15000):\n",
    "    X2=X.dot(theta)-Y\n",
    "    #X4=(1/m)*np.sum(X2)*alpha\n",
    "    #X9=np.array(X9)\n",
    "    #X5=X2*X9\n",
    "    #X6=(1/m)*np.sum(X5)*alpha\n",
    "    \n",
    "    X4=(1/m)*(X.transpose()).dot(X2)\n",
    "    #theta[0]=theta[0]-X4\n",
    "    #theta[1]=theta[1]-X6\n",
    "    #calculating cost after each iteration\n",
    "    theta=theta-alpha*X4\n",
    "    \n",
    "    if i1%50==0:\n",
    "        X2=X.dot(theta)-Y\n",
    "        X3=X2**2 #perform element wise square\n",
    "        cost=(1/(2*m))*np.sum(X3)\n",
    "        cost=float(cost)\n",
    "        print(\"i1 = {}, cost = {} \".format(i1,cost))\n",
    "        lx.append(i1*5)\n",
    "        ly.append(cost)\n",
    "       # \n",
    "       \n",
    "    "
   ]
  },
  {
   "cell_type": "code",
   "execution_count": 13,
   "metadata": {},
   "outputs": [
    {
     "data": {
      "image/png": "[encoded data removed]",
      "text/plain": [
       "<Figure size 432x288 with 1 Axes>"
      ]
     },
     "metadata": {
      "needs_background": "light"
     },
     "output_type": "display_data"
    },
    {
     "name": "stdout",
     "output_type": "stream",
     "text": [
      "theta is  [[339119.45652174]\n",
      " [110248.92165867]\n",
      " [ -6226.22670553]]\n"
     ]
    }
   ],
   "source": [
    "plt.scatter(lx,ly) \n",
    "plt.show()\n",
    "print(\"theta is \",theta) "
   ]
  },
  {
   "cell_type": "code",
   "execution_count": 14,
   "metadata": {},
   "outputs": [
    {
     "data": {
      "image/png": "[encoded data removed]",
      "text/plain": [
       "<Figure size 432x288 with 1 Axes>"
      ]
     },
     "metadata": {
      "needs_background": "light"
     },
     "output_type": "display_data"
    }
   ],
   "source": [
    "plt.scatter(x1, X.dot(theta),color=\"red\",marker='.') \n",
    "plt.scatter(x1, Y, label= \"stars\", color= \"green\",  \n",
    "            marker= \"*\", s=30) \n",
    "  \n",
    "# x-axis label \n",
    "plt.xlabel('x - axis') \n",
    "# frequency label \n",
    "plt.ylabel('y - axis') \n",
    "# plot title \n",
    "plt.title('My scatter plot!') \n",
    "# showing legend \n",
    "plt.legend() \n",
    "  \n",
    "# function to show the plot \n",
    "plt.show() "
   ]
  },
  {
   "cell_type": "code",
   "execution_count": 15,
   "metadata": {},
   "outputs": [
    {
     "data": {
      "image/png": "[encoded data removed]",
      "text/plain": [
       "<Figure size 432x288 with 1 Axes>"
      ]
     },
     "metadata": {
      "needs_background": "light"
     },
     "output_type": "display_data"
    }
   ],
   "source": [
    "plt.scatter(x2, X.dot(theta),color=\"red\",marker='.') \n",
    "plt.scatter(x2, Y, label= \"stars\", color= \"green\",  \n",
    "            marker= \"*\", s=30) \n",
    "  \n",
    "# x-axis label \n",
    "plt.xlabel('x - axis') \n",
    "# frequency label \n",
    "plt.ylabel('y - axis') \n",
    "# plot title \n",
    "plt.title('My scatter plot!') \n",
    "# showing legend \n",
    "plt.legend() \n",
    "  \n",
    "# function to show the plot \n",
    "plt.show() "
   ]
  },
  {
   "cell_type": "code",
   "execution_count": null,
   "metadata": {},
   "outputs": [],
   "source": []
  },
  {
   "cell_type": "code",
   "execution_count": 19,
   "metadata": {},
   "outputs": [
    {
     "name": "stdout",
     "output_type": "stream",
     "text": [
      "final theta value after training is  [[339119.45652174]\n",
      " [110248.92165867]\n",
      " [ -6226.22670553]]\n",
      "Enter area 2100\n",
      "Enter no of bed 5\n",
      "parameter after normalised are  0.127826837157131 2.400980191995124\n",
      "The expected price is is  [338263.18048649]\n"
     ]
    }
   ],
   "source": [
    "#print(X)\n",
    "final_theta=theta\n",
    "print(\"final theta value after training is \",final_theta)\n",
    "par1,par2=eval(input(\"Enter area \")),eval(input(\"Enter no of bed \"))\n",
    "par1=(par1-x1sub)/x1div\n",
    "par2=(par2-x2sub)/x2div\n",
    "print(\"parameter after normalised are \",par1,par2)\n",
    "price=theta[0]+theta[1]*par1+theta[2]*par2\n",
    "print(\"The expected price is is \",price)"
   ]
  },
  {
   "cell_type": "code",
   "execution_count": null,
   "metadata": {},
   "outputs": [],
   "source": []
  }
 ],
 "metadata": {
  "kernelspec": {
   "display_name": "Python 3",
   "language": "python",
   "name": "python3"
  },
  "language_info": {
   "codemirror_mode": {
    "name": "ipython",
    "version": 3
   },
   "file_extension": ".py",
   "mimetype": "text/x-python",
   "name": "python",
   "nbconvert_exporter": "python",
   "pygments_lexer": "ipython3",
   "version": "3.7.4"
  }
 },
 "nbformat": 4,
 "nbformat_minor": 2
}
