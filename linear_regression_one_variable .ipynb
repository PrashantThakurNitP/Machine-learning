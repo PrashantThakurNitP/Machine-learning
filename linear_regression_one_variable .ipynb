{
 "cells": [
  {
   "cell_type": "code",
   "execution_count": 1,
   "metadata": {},
   "outputs": [],
   "source": [
    "import numpy as np\n",
    "import pandas as pd\n",
    "import matplotlib.pyplot as plt"
   ]
  },
  {
   "cell_type": "code",
   "execution_count": 2,
   "metadata": {},
   "outputs": [
    {
     "data": {
      "text/html": [
       "<div>\n",
       "<style scoped>\n",
       "    .dataframe tbody tr th:only-of-type {\n",
       "        vertical-align: middle;\n",
       "    }\n",
       "\n",
       "    .dataframe tbody tr th {\n",
       "        vertical-align: top;\n",
       "    }\n",
       "\n",
       "    .dataframe thead th {\n",
       "        text-align: right;\n",
       "    }\n",
       "</style>\n",
       "<table border=\"1\" class=\"dataframe\">\n",
       "  <thead>\n",
       "    <tr style=\"text-align: right;\">\n",
       "      <th></th>\n",
       "      <th>6.1101</th>\n",
       "      <th>17.592</th>\n",
       "    </tr>\n",
       "  </thead>\n",
       "  <tbody>\n",
       "    <tr>\n",
       "      <td>0</td>\n",
       "      <td>5.5277</td>\n",
       "      <td>9.1302</td>\n",
       "    </tr>\n",
       "    <tr>\n",
       "      <td>1</td>\n",
       "      <td>8.5186</td>\n",
       "      <td>13.6620</td>\n",
       "    </tr>\n",
       "    <tr>\n",
       "      <td>2</td>\n",
       "      <td>7.0032</td>\n",
       "      <td>11.8540</td>\n",
       "    </tr>\n",
       "    <tr>\n",
       "      <td>3</td>\n",
       "      <td>5.8598</td>\n",
       "      <td>6.8233</td>\n",
       "    </tr>\n",
       "    <tr>\n",
       "      <td>4</td>\n",
       "      <td>8.3829</td>\n",
       "      <td>11.8860</td>\n",
       "    </tr>\n",
       "  </tbody>\n",
       "</table>\n",
       "</div>"
      ],
      "text/plain": [
       "   6.1101   17.592\n",
       "0  5.5277   9.1302\n",
       "1  8.5186  13.6620\n",
       "2  7.0032  11.8540\n",
       "3  5.8598   6.8233\n",
       "4  8.3829  11.8860"
      ]
     },
     "execution_count": 2,
     "metadata": {},
     "output_type": "execute_result"
    }
   ],
   "source": [
    "df1=pd.read_csv('C:\\\\Users\\PRASHANT\\\\Desktop\\\\coding dec19\\\\weather-data-in-new-york-city-2016\\\\ex1data1.csv')\n",
    "df1.head()"
   ]
  },
  {
   "cell_type": "code",
   "execution_count": 3,
   "metadata": {},
   "outputs": [
    {
     "data": {
      "text/plain": [
       "(96, 1)"
      ]
     },
     "execution_count": 3,
     "metadata": {},
     "output_type": "execute_result"
    }
   ],
   "source": [
    "X=df1.iloc[:,[0]] #select  all row and 0 column no\n",
    "X.shape"
   ]
  },
  {
   "cell_type": "code",
   "execution_count": 4,
   "metadata": {},
   "outputs": [
    {
     "data": {
      "text/html": [
       "<div>\n",
       "<style scoped>\n",
       "    .dataframe tbody tr th:only-of-type {\n",
       "        vertical-align: middle;\n",
       "    }\n",
       "\n",
       "    .dataframe tbody tr th {\n",
       "        vertical-align: top;\n",
       "    }\n",
       "\n",
       "    .dataframe thead th {\n",
       "        text-align: right;\n",
       "    }\n",
       "</style>\n",
       "<table border=\"1\" class=\"dataframe\">\n",
       "  <thead>\n",
       "    <tr style=\"text-align: right;\">\n",
       "      <th></th>\n",
       "      <th>6.1101</th>\n",
       "    </tr>\n",
       "  </thead>\n",
       "  <tbody>\n",
       "    <tr>\n",
       "      <td>0</td>\n",
       "      <td>5.5277</td>\n",
       "    </tr>\n",
       "    <tr>\n",
       "      <td>1</td>\n",
       "      <td>8.5186</td>\n",
       "    </tr>\n",
       "    <tr>\n",
       "      <td>2</td>\n",
       "      <td>7.0032</td>\n",
       "    </tr>\n",
       "    <tr>\n",
       "      <td>3</td>\n",
       "      <td>5.8598</td>\n",
       "    </tr>\n",
       "    <tr>\n",
       "      <td>4</td>\n",
       "      <td>8.3829</td>\n",
       "    </tr>\n",
       "    <tr>\n",
       "      <td>...</td>\n",
       "      <td>...</td>\n",
       "    </tr>\n",
       "    <tr>\n",
       "      <td>91</td>\n",
       "      <td>5.8707</td>\n",
       "    </tr>\n",
       "    <tr>\n",
       "      <td>92</td>\n",
       "      <td>5.3054</td>\n",
       "    </tr>\n",
       "    <tr>\n",
       "      <td>93</td>\n",
       "      <td>8.2934</td>\n",
       "    </tr>\n",
       "    <tr>\n",
       "      <td>94</td>\n",
       "      <td>13.3940</td>\n",
       "    </tr>\n",
       "    <tr>\n",
       "      <td>95</td>\n",
       "      <td>5.4369</td>\n",
       "    </tr>\n",
       "  </tbody>\n",
       "</table>\n",
       "<p>96 rows × 1 columns</p>\n",
       "</div>"
      ],
      "text/plain": [
       "     6.1101\n",
       "0    5.5277\n",
       "1    8.5186\n",
       "2    7.0032\n",
       "3    5.8598\n",
       "4    8.3829\n",
       "..      ...\n",
       "91   5.8707\n",
       "92   5.3054\n",
       "93   8.2934\n",
       "94  13.3940\n",
       "95   5.4369\n",
       "\n",
       "[96 rows x 1 columns]"
      ]
     },
     "execution_count": 4,
     "metadata": {},
     "output_type": "execute_result"
    }
   ],
   "source": [
    "X          #population"
   ]
  },
  {
   "cell_type": "code",
   "execution_count": 5,
   "metadata": {},
   "outputs": [],
   "source": [
    "Y=df1.iloc[:,[1]] #profit"
   ]
  },
  {
   "cell_type": "code",
   "execution_count": 6,
   "metadata": {},
   "outputs": [
    {
     "data": {
      "text/html": [
       "<div>\n",
       "<style scoped>\n",
       "    .dataframe tbody tr th:only-of-type {\n",
       "        vertical-align: middle;\n",
       "    }\n",
       "\n",
       "    .dataframe tbody tr th {\n",
       "        vertical-align: top;\n",
       "    }\n",
       "\n",
       "    .dataframe thead th {\n",
       "        text-align: right;\n",
       "    }\n",
       "</style>\n",
       "<table border=\"1\" class=\"dataframe\">\n",
       "  <thead>\n",
       "    <tr style=\"text-align: right;\">\n",
       "      <th></th>\n",
       "      <th>17.592</th>\n",
       "    </tr>\n",
       "  </thead>\n",
       "  <tbody>\n",
       "    <tr>\n",
       "      <td>0</td>\n",
       "      <td>9.13020</td>\n",
       "    </tr>\n",
       "    <tr>\n",
       "      <td>1</td>\n",
       "      <td>13.66200</td>\n",
       "    </tr>\n",
       "    <tr>\n",
       "      <td>2</td>\n",
       "      <td>11.85400</td>\n",
       "    </tr>\n",
       "    <tr>\n",
       "      <td>3</td>\n",
       "      <td>6.82330</td>\n",
       "    </tr>\n",
       "    <tr>\n",
       "      <td>4</td>\n",
       "      <td>11.88600</td>\n",
       "    </tr>\n",
       "    <tr>\n",
       "      <td>...</td>\n",
       "      <td>...</td>\n",
       "    </tr>\n",
       "    <tr>\n",
       "      <td>91</td>\n",
       "      <td>7.20290</td>\n",
       "    </tr>\n",
       "    <tr>\n",
       "      <td>92</td>\n",
       "      <td>1.98690</td>\n",
       "    </tr>\n",
       "    <tr>\n",
       "      <td>93</td>\n",
       "      <td>0.14454</td>\n",
       "    </tr>\n",
       "    <tr>\n",
       "      <td>94</td>\n",
       "      <td>9.05510</td>\n",
       "    </tr>\n",
       "    <tr>\n",
       "      <td>95</td>\n",
       "      <td>0.61705</td>\n",
       "    </tr>\n",
       "  </tbody>\n",
       "</table>\n",
       "<p>96 rows × 1 columns</p>\n",
       "</div>"
      ],
      "text/plain": [
       "      17.592\n",
       "0    9.13020\n",
       "1   13.66200\n",
       "2   11.85400\n",
       "3    6.82330\n",
       "4   11.88600\n",
       "..       ...\n",
       "91   7.20290\n",
       "92   1.98690\n",
       "93   0.14454\n",
       "94   9.05510\n",
       "95   0.61705\n",
       "\n",
       "[96 rows x 1 columns]"
      ]
     },
     "execution_count": 6,
     "metadata": {},
     "output_type": "execute_result"
    }
   ],
   "source": [
    "Y"
   ]
  },
  {
   "cell_type": "code",
   "execution_count": 7,
   "metadata": {},
   "outputs": [
    {
     "name": "stdout",
     "output_type": "stream",
     "text": [
      "no of element =  96\n"
     ]
    }
   ],
   "source": [
    "m,n=X.shape\n",
    "print(\"no of element = \",m)"
   ]
  },
  {
   "cell_type": "code",
   "execution_count": 8,
   "metadata": {},
   "outputs": [],
   "source": [
    "\n",
    "X1=np.ones([m,1])\n",
    "X9=X\n"
   ]
  },
  {
   "cell_type": "code",
   "execution_count": 9,
   "metadata": {},
   "outputs": [
    {
     "data": {
      "text/plain": [
       "array([[1.    , 5.5277],\n",
       "       [1.    , 8.5186],\n",
       "       [1.    , 7.0032],\n",
       "       [1.    , 5.8598],\n",
       "       [1.    , 8.3829]])"
      ]
     },
     "execution_count": 9,
     "metadata": {},
     "output_type": "execute_result"
    }
   ],
   "source": [
    "X=X9\n",
    "X=np.hstack([X1,X])\n",
    "X[0:5:,]"
   ]
  },
  {
   "cell_type": "code",
   "execution_count": 10,
   "metadata": {},
   "outputs": [
    {
     "name": "stdout",
     "output_type": "stream",
     "text": [
      "[[0.]\n",
      " [0.]]\n"
     ]
    }
   ],
   "source": [
    "theta=np.zeros([2,1])\n",
    "print(theta)\n",
    "alpha=0.0001"
   ]
  },
  {
   "cell_type": "code",
   "execution_count": 11,
   "metadata": {},
   "outputs": [
    {
     "name": "stdout",
     "output_type": "stream",
     "text": [
      "30.79495785534583\n"
     ]
    }
   ],
   "source": [
    "X2=X.dot(theta)-Y\n",
    "X3=X2**2 #perform element wise square\n",
    "cost=(1/(2*m))*np.sum(X3)\n",
    "cost=float(cost)\n",
    "print(cost)"
   ]
  },
  {
   "cell_type": "code",
   "execution_count": 12,
   "metadata": {},
   "outputs": [
    {
     "name": "stdout",
     "output_type": "stream",
     "text": [
      "i1 = 0, cost = 30.372376688562134 \n",
      "i1 = 50, cost = 16.135539248652393 \n",
      "i1 = 100, cost = 9.927495917866237 \n",
      "i1 = 150, cost = 7.219490750801943 \n",
      "i1 = 200, cost = 6.037278978135856 \n",
      "i1 = 250, cost = 5.520217529164502 \n",
      "i1 = 300, cost = 5.293121668539234 \n",
      "i1 = 350, cost = 5.192435105501373 \n",
      "i1 = 400, cost = 5.14685786729231 \n",
      "i1 = 450, cost = 5.125307770537132 \n",
      "i1 = 500, cost = 5.114234987568243 \n",
      "i1 = 550, cost = 5.1077326641778775 \n",
      "i1 = 600, cost = 5.1032257884035594 \n",
      "i1 = 650, cost = 5.099591816075392 \n",
      "i1 = 700, cost = 5.096341385074621 \n",
      "i1 = 750, cost = 5.093261159725193 \n",
      "i1 = 800, cost = 5.09025813404206 \n",
      "i1 = 850, cost = 5.087291758014761 \n",
      "i1 = 900, cost = 5.084344349055715 \n",
      "i1 = 950, cost = 5.081408193304879 \n",
      "i1 = 1000, cost = 5.078479922632572 \n",
      "i1 = 1050, cost = 5.075558063376269 \n",
      "i1 = 1100, cost = 5.072641967748336 \n",
      "i1 = 1150, cost = 5.069731347998864 \n",
      "i1 = 1200, cost = 5.066826073340788 \n",
      "i1 = 1250, cost = 5.0639260814223315 \n",
      "i1 = 1300, cost = 5.061031339734711 \n",
      "i1 = 1350, cost = 5.058141828788373 \n",
      "i1 = 1400, cost = 5.055257534778898 \n",
      "i1 = 1450, cost = 5.0523784463898 \n",
      "i1 = 1500, cost = 5.049504553398725 \n",
      "i1 = 1550, cost = 5.046635846069836 \n",
      "i1 = 1600, cost = 5.043772314888914 \n",
      "i1 = 1650, cost = 5.040913950447859 \n",
      "i1 = 1700, cost = 5.038060743394318 \n",
      "i1 = 1750, cost = 5.035212684409723 \n",
      "i1 = 1800, cost = 5.0323697641996885 \n",
      "i1 = 1850, cost = 5.0295319734898065 \n",
      "i1 = 1900, cost = 5.026699303023808 \n",
      "i1 = 1950, cost = 5.023871743562732 \n",
      "i1 = 2000, cost = 5.021049285884557 \n",
      "i1 = 2050, cost = 5.018231920784015 \n",
      "i1 = 2100, cost = 5.015419639072499 \n",
      "i1 = 2150, cost = 5.012612431578001 \n",
      "i1 = 2200, cost = 5.009810289145074 \n",
      "i1 = 2250, cost = 5.007013202634792 \n",
      "i1 = 2300, cost = 5.004221162924724 \n",
      "i1 = 2350, cost = 5.001434160908894 \n",
      "i1 = 2400, cost = 4.998652187497761 \n",
      "i1 = 2450, cost = 4.995875233618184 \n",
      "i1 = 2500, cost = 4.993103290213389 \n",
      "i1 = 2550, cost = 4.990336348242947 \n",
      "i1 = 2600, cost = 4.98757439868274 \n",
      "i1 = 2650, cost = 4.984817432524931 \n",
      "i1 = 2700, cost = 4.982065440777939 \n",
      "i1 = 2750, cost = 4.9793184144664 \n",
      "i1 = 2800, cost = 4.9765763446311535 \n",
      "i1 = 2850, cost = 4.973839222329196 \n",
      "i1 = 2900, cost = 4.971107038633662 \n",
      "i1 = 2950, cost = 4.968379784633797 \n",
      "i1 = 3000, cost = 4.965657451434922 \n",
      "i1 = 3050, cost = 4.9629400301584 \n",
      "i1 = 3100, cost = 4.960227511941625 \n",
      "i1 = 3150, cost = 4.957519887937975 \n",
      "i1 = 3200, cost = 4.95481714931679 \n",
      "i1 = 3250, cost = 4.952119287263347 \n",
      "i1 = 3300, cost = 4.949426292978824 \n",
      "i1 = 3350, cost = 4.946738157680276 \n",
      "i1 = 3400, cost = 4.944054872600605 \n",
      "i1 = 3450, cost = 4.941376428988531 \n",
      "i1 = 3500, cost = 4.938702818108565 \n",
      "i1 = 3550, cost = 4.936034031240981 \n",
      "i1 = 3600, cost = 4.9333700596817796 \n",
      "i1 = 3650, cost = 4.930710894742675 \n",
      "i1 = 3700, cost = 4.9280565277510515 \n",
      "i1 = 3750, cost = 4.925406950049943 \n",
      "i1 = 3800, cost = 4.922762152998004 \n",
      "i1 = 3850, cost = 4.92012212796948 \n",
      "i1 = 3900, cost = 4.917486866354179 \n",
      "i1 = 3950, cost = 4.914856359557447 \n",
      "i1 = 4000, cost = 4.912230599000137 \n",
      "i1 = 4050, cost = 4.9096095761185765 \n",
      "i1 = 4100, cost = 4.906993282364551 \n",
      "i1 = 4150, cost = 4.904381709205269 \n",
      "i1 = 4200, cost = 4.901774848123328 \n",
      "i1 = 4250, cost = 4.8991726906167 \n",
      "i1 = 4300, cost = 4.896575228198697 \n",
      "i1 = 4350, cost = 4.893982452397941 \n",
      "i1 = 4400, cost = 4.89139435475834 \n",
      "i1 = 4450, cost = 4.888810926839057 \n",
      "i1 = 4500, cost = 4.886232160214493 \n",
      "i1 = 4550, cost = 4.883658046474238 \n",
      "i1 = 4600, cost = 4.881088577223071 \n",
      "i1 = 4650, cost = 4.87852374408091 \n",
      "i1 = 4700, cost = 4.875963538682793 \n",
      "i1 = 4750, cost = 4.873407952678858 \n",
      "i1 = 4800, cost = 4.870856977734299 \n",
      "i1 = 4850, cost = 4.868310605529357 \n",
      "i1 = 4900, cost = 4.865768827759277 \n",
      "i1 = 4950, cost = 4.863231636134298 \n",
      "i1 = 5000, cost = 4.860699022379606 \n",
      "i1 = 5050, cost = 4.8581709782353215 \n",
      "i1 = 5100, cost = 4.855647495456472 \n",
      "i1 = 5150, cost = 4.8531285658129555 \n",
      "i1 = 5200, cost = 4.850614181089522 \n",
      "i1 = 5250, cost = 4.848104333085748 \n",
      "i1 = 5300, cost = 4.845599013615999 \n",
      "i1 = 5350, cost = 4.843098214509414 \n",
      "i1 = 5400, cost = 4.8406019276098755 \n",
      "i1 = 5450, cost = 4.838110144775979 \n",
      "i1 = 5500, cost = 4.835622857881015 \n",
      "i1 = 5550, cost = 4.83314005881293 \n",
      "i1 = 5600, cost = 4.830661739474312 \n",
      "i1 = 5650, cost = 4.828187891782356 \n",
      "i1 = 5700, cost = 4.825718507668847 \n",
      "i1 = 5750, cost = 4.823253579080119 \n",
      "i1 = 5800, cost = 4.820793097977044 \n",
      "i1 = 5850, cost = 4.818337056334997 \n",
      "i1 = 5900, cost = 4.815885446143827 \n",
      "i1 = 5950, cost = 4.813438259407846 \n",
      "i1 = 6000, cost = 4.8109954881457835 \n",
      "i1 = 6050, cost = 4.808557124390774 \n",
      "i1 = 6100, cost = 4.806123160190326 \n",
      "i1 = 6150, cost = 4.803693587606295 \n",
      "i1 = 6200, cost = 4.801268398714862 \n",
      "i1 = 6250, cost = 4.798847585606506 \n",
      "i1 = 6300, cost = 4.79643114038597 \n",
      "i1 = 6350, cost = 4.79401905517225 \n",
      "i1 = 6400, cost = 4.791611322098561 \n",
      "i1 = 6450, cost = 4.789207933312306 \n",
      "i1 = 6500, cost = 4.786808880975063 \n",
      "i1 = 6550, cost = 4.784414157262553 \n",
      "i1 = 6600, cost = 4.782023754364609 \n",
      "i1 = 6650, cost = 4.779637664485159 \n",
      "i1 = 6700, cost = 4.777255879842199 \n",
      "i1 = 6750, cost = 4.774878392667764 \n",
      "i1 = 6800, cost = 4.772505195207906 \n",
      "i1 = 6850, cost = 4.7701362797226645 \n",
      "i1 = 6900, cost = 4.767771638486049 \n",
      "i1 = 6950, cost = 4.765411263786005 \n",
      "i1 = 7000, cost = 4.7630551479243985 \n",
      "i1 = 7050, cost = 4.760703283216976 \n",
      "i1 = 7100, cost = 4.758355661993358 \n",
      "i1 = 7150, cost = 4.756012276596999 \n",
      "i1 = 7200, cost = 4.75367311938517 \n",
      "i1 = 7250, cost = 4.751338182728933 \n",
      "i1 = 7300, cost = 4.749007459013114 \n",
      "i1 = 7350, cost = 4.746680940636278 \n",
      "i1 = 7400, cost = 4.744358620010706 \n",
      "i1 = 7450, cost = 4.742040489562371 \n",
      "i1 = 7500, cost = 4.739726541730911 \n",
      "i1 = 7550, cost = 4.737416768969603 \n",
      "i1 = 7600, cost = 4.735111163745345 \n",
      "i1 = 7650, cost = 4.732809718538622 \n",
      "i1 = 7700, cost = 4.730512425843489 \n",
      "i1 = 7750, cost = 4.728219278167548 \n",
      "i1 = 7800, cost = 4.725930268031911 \n",
      "i1 = 7850, cost = 4.723645387971192 \n",
      "i1 = 7900, cost = 4.721364630533469 \n",
      "i1 = 7950, cost = 4.719087988280272 \n",
      "i1 = 8000, cost = 4.716815453786545 \n",
      "i1 = 8050, cost = 4.714547019640634 \n",
      "i1 = 8100, cost = 4.7122826784442555 \n",
      "i1 = 8150, cost = 4.710022422812477 \n",
      "i1 = 8200, cost = 4.707766245373691 \n",
      "i1 = 8250, cost = 4.705514138769585 \n",
      "i1 = 8300, cost = 4.703266095655129 \n",
      "i1 = 8350, cost = 4.701022108698545 \n",
      "i1 = 8400, cost = 4.698782170581282 \n",
      "i1 = 8450, cost = 4.696546273997994 \n",
      "i1 = 8500, cost = 4.694314411656517 \n",
      "i1 = 8550, cost = 4.692086576277845 \n",
      "i1 = 8600, cost = 4.689862760596102 \n",
      "i1 = 8650, cost = 4.687642957358528 \n",
      "i1 = 8700, cost = 4.685427159325442 \n",
      "i1 = 8750, cost = 4.683215359270232 \n",
      "i1 = 8800, cost = 4.681007549979318 \n",
      "i1 = 8850, cost = 4.678803724252145 \n",
      "i1 = 8900, cost = 4.676603874901142 \n",
      "i1 = 8950, cost = 4.674407994751709 \n",
      "i1 = 9000, cost = 4.672216076642192 \n",
      "i1 = 9050, cost = 4.670028113423858 \n",
      "i1 = 9100, cost = 4.667844097960874 \n",
      "i1 = 9150, cost = 4.6656640231302795 \n",
      "i1 = 9200, cost = 4.663487881821968 \n",
      "i1 = 9250, cost = 4.661315666938661 \n",
      "i1 = 9300, cost = 4.659147371395886 \n",
      "i1 = 9350, cost = 4.656982988121955 \n",
      "i1 = 9400, cost = 4.654822510057935 \n",
      "i1 = 9450, cost = 4.6526659301576325 \n",
      "i1 = 9500, cost = 4.650513241387568 \n",
      "i1 = 9550, cost = 4.648364436726949 \n",
      "i1 = 9600, cost = 4.646219509167658 \n",
      "i1 = 9650, cost = 4.644078451714211 \n",
      "i1 = 9700, cost = 4.641941257383758 \n",
      "i1 = 9750, cost = 4.63980791920604 \n",
      "i1 = 9800, cost = 4.63767843022338 \n",
      "i1 = 9850, cost = 4.635552783490647 \n",
      "i1 = 9900, cost = 4.63343097207525 \n",
      "i1 = 9950, cost = 4.631312989057101 \n",
      "i1 = 10000, cost = 4.629198827528603 \n",
      "i1 = 10050, cost = 4.627088480594612 \n",
      "i1 = 10100, cost = 4.624981941372437 \n",
      "i1 = 10150, cost = 4.6228792029918 \n",
      "i1 = 10200, cost = 4.620780258594818 \n",
      "i1 = 10250, cost = 4.618685101335985 \n",
      "i1 = 10300, cost = 4.616593724382143 \n",
      "i1 = 10350, cost = 4.6145061209124645 \n",
      "i1 = 10400, cost = 4.612422284118431 \n",
      "i1 = 10450, cost = 4.610342207203804 \n",
      "i1 = 10500, cost = 4.608265883384612 \n",
      "i1 = 10550, cost = 4.606193305889123 \n",
      "i1 = 10600, cost = 4.604124467957821 \n",
      "i1 = 10650, cost = 4.602059362843386 \n",
      "i1 = 10700, cost = 4.5999979838106775 \n",
      "i1 = 10750, cost = 4.597940324136701 \n",
      "i1 = 10800, cost = 4.595886377110595 \n",
      "i1 = 10850, cost = 4.593836136033608 \n",
      "i1 = 10900, cost = 4.591789594219072 \n",
      "i1 = 10950, cost = 4.589746744992384 \n",
      "i1 = 11000, cost = 4.587707581690989 \n",
      "i1 = 11050, cost = 4.585672097664347 \n"
     ]
    },
    {
     "name": "stdout",
     "output_type": "stream",
     "text": [
      "i1 = 11100, cost = 4.58364028627392 \n",
      "i1 = 11150, cost = 4.5816121408931485 \n",
      "i1 = 11200, cost = 4.57958765490743 \n",
      "i1 = 11250, cost = 4.577566821714094 \n",
      "i1 = 11300, cost = 4.575549634722386 \n",
      "i1 = 11350, cost = 4.5735360873534425 \n",
      "i1 = 11400, cost = 4.5715261730402705 \n",
      "i1 = 11450, cost = 4.569519885227722 \n",
      "i1 = 11500, cost = 4.567517217372484 \n",
      "i1 = 11550, cost = 4.565518162943044 \n",
      "i1 = 11600, cost = 4.563522715419676 \n",
      "i1 = 11650, cost = 4.561530868294416 \n",
      "i1 = 11700, cost = 4.559542615071046 \n",
      "i1 = 11750, cost = 4.557557949265065 \n",
      "i1 = 11800, cost = 4.555576864403674 \n",
      "i1 = 11850, cost = 4.5535993540257556 \n",
      "i1 = 11900, cost = 4.551625411681844 \n",
      "i1 = 11950, cost = 4.549655030934116 \n",
      "i1 = 12000, cost = 4.547688205356362 \n",
      "i1 = 12050, cost = 4.545724928533965 \n",
      "i1 = 12100, cost = 4.543765194063887 \n",
      "i1 = 12150, cost = 4.5418089955546375 \n",
      "i1 = 12200, cost = 4.539856326626262 \n",
      "i1 = 12250, cost = 4.537907180910318 \n",
      "i1 = 12300, cost = 4.53596155204985 \n",
      "i1 = 12350, cost = 4.534019433699374 \n",
      "i1 = 12400, cost = 4.532080819524854 \n",
      "i1 = 12450, cost = 4.530145703203687 \n",
      "i1 = 12500, cost = 4.528214078424675 \n",
      "i1 = 12550, cost = 4.526285938888006 \n",
      "i1 = 12600, cost = 4.524361278305236 \n",
      "i1 = 12650, cost = 4.522440090399266 \n",
      "i1 = 12700, cost = 4.520522368904328 \n",
      "i1 = 12750, cost = 4.518608107565951 \n",
      "i1 = 12800, cost = 4.516697300140956 \n",
      "i1 = 12850, cost = 4.514789940397426 \n",
      "i1 = 12900, cost = 4.512886022114687 \n",
      "i1 = 12950, cost = 4.510985539083293 \n",
      "i1 = 13000, cost = 4.509088485104996 \n",
      "i1 = 13050, cost = 4.507194853992736 \n",
      "i1 = 13100, cost = 4.505304639570615 \n",
      "i1 = 13150, cost = 4.503417835673878 \n",
      "i1 = 13200, cost = 4.5015344361488925 \n",
      "i1 = 13250, cost = 4.4996544348531335 \n",
      "i1 = 13300, cost = 4.497777825655151 \n",
      "i1 = 13350, cost = 4.495904602434565 \n",
      "i1 = 13400, cost = 4.494034759082034 \n",
      "i1 = 13450, cost = 4.492168289499242 \n",
      "i1 = 13500, cost = 4.490305187598876 \n",
      "i1 = 13550, cost = 4.488445447304606 \n",
      "i1 = 13600, cost = 4.486589062551067 \n",
      "i1 = 13650, cost = 4.484736027283835 \n",
      "i1 = 13700, cost = 4.482886335459411 \n",
      "i1 = 13750, cost = 4.481039981045202 \n",
      "i1 = 13800, cost = 4.479196958019498 \n",
      "i1 = 13850, cost = 4.4773572603714555 \n",
      "i1 = 13900, cost = 4.475520882101073 \n",
      "i1 = 13950, cost = 4.473687817219178 \n",
      "i1 = 14000, cost = 4.471858059747405 \n",
      "i1 = 14050, cost = 4.470031603718173 \n",
      "i1 = 14100, cost = 4.468208443174667 \n",
      "i1 = 14150, cost = 4.466388572170826 \n",
      "i1 = 14200, cost = 4.464571984771311 \n",
      "i1 = 14250, cost = 4.462758675051495 \n",
      "i1 = 14300, cost = 4.46094863709744 \n",
      "i1 = 14350, cost = 4.459141865005881 \n",
      "i1 = 14400, cost = 4.457338352884201 \n",
      "i1 = 14450, cost = 4.455538094850416 \n",
      "i1 = 14500, cost = 4.453741085033158 \n",
      "i1 = 14550, cost = 4.451947317571648 \n",
      "i1 = 14600, cost = 4.450156786615684 \n",
      "i1 = 14650, cost = 4.4483694863256185 \n",
      "i1 = 14700, cost = 4.446585410872345 \n",
      "i1 = 14750, cost = 4.444804554437265 \n",
      "i1 = 14800, cost = 4.443026911212289 \n",
      "i1 = 14850, cost = 4.441252475399802 \n",
      "i1 = 14900, cost = 4.439481241212649 \n",
      "i1 = 14950, cost = 4.437713202874116 \n"
     ]
    }
   ],
   "source": [
    "\n",
    "lx=[]\n",
    "lx.append(0)\n",
    "ly=[]\n",
    "ly.append(cost)\n",
    "for i1 in range(15000):\n",
    "    X2=X.dot(theta)-Y\n",
    "    X4=(1/m)*np.sum(X2)*alpha\n",
    "    X9=np.array(X9)\n",
    "    X5=X2*X9\n",
    "    X6=(1/m)*np.sum(X5)*alpha\n",
    "    \n",
    "    theta[0]=theta[0]-X4\n",
    "    theta[1]=theta[1]-X6\n",
    "    #calculating cost after each iteration\n",
    "    \n",
    "    if i1%50==0:\n",
    "        X2=X.dot(theta)-Y\n",
    "        X3=X2**2 #perform element wise square\n",
    "        cost=(1/(2*m))*np.sum(X3)\n",
    "        cost=float(cost)\n",
    "        print(\"i1 = {}, cost = {} \".format(i1,cost))\n",
    "        lx.append(i1*5)\n",
    "        ly.append(cost)\n",
    "       # \n",
    "       \n",
    "    "
   ]
  },
  {
   "cell_type": "code",
   "execution_count": 13,
   "metadata": {},
   "outputs": [
    {
     "data": {
      "image/png": "[encoded data removed]",
      "text/plain": [
       "<Figure size 432x288 with 1 Axes>"
      ]
     },
     "metadata": {
      "needs_background": "light"
     },
     "output_type": "display_data"
    },
    {
     "name": "stdout",
     "output_type": "stream",
     "text": [
      "theta is  [[-0.93950936]\n",
      " [ 0.88583069]]\n"
     ]
    }
   ],
   "source": [
    "plt.scatter(lx,ly) \n",
    "plt.show()\n",
    "print(\"theta is \",theta) "
   ]
  },
  {
   "cell_type": "code",
   "execution_count": 16,
   "metadata": {},
   "outputs": [
    {
     "name": "stdout",
     "output_type": "stream",
     "text": [
      "final theta value after training is  [[-0.93950936]\n",
      " [ 0.88583069]]\n",
      "Enter population 3500\n",
      "The expected profit is  [3099.46788829]\n"
     ]
    }
   ],
   "source": [
    "final_theta=theta\n",
    "print(\"final theta value after training is \",final_theta)\n",
    "par1=eval(input(\"Enter population \"))\n",
    "pft=theta[0]+theta[1]*par1\n",
    "print(\"The expected profit is \",pft)\n"
   ]
  },
  {
   "cell_type": "code",
   "execution_count": 18,
   "metadata": {},
   "outputs": [
    {
     "data": {
      "image/png": "[encoded data removed]",
      "text/plain": [
       "<Figure size 432x288 with 1 Axes>"
      ]
     },
     "metadata": {
      "needs_background": "light"
     },
     "output_type": "display_data"
    }
   ],
   "source": [
    "plt.scatter(X9, theta[0]+theta[1]*X9,color=\"red\",marker='.') \n",
    "plt.scatter(X9, Y, label= \"stars\", color= \"green\",  \n",
    "            marker= \"*\", s=30) \n",
    "  \n",
    "# x-axis label \n",
    "plt.xlabel('x - axis') \n",
    "# frequency label \n",
    "plt.ylabel('y - axis') \n",
    "# plot title \n",
    "plt.title('My scatter plot!') \n",
    "# showing legend \n",
    "plt.legend() \n",
    "  \n",
    "# function to show the plot \n",
    "plt.show() \n",
    "\n"
   ]
  },
  {
   "cell_type": "code",
   "execution_count": null,
   "metadata": {},
   "outputs": [],
   "source": []
  }
 ],
 "metadata": {
  "kernelspec": {
   "display_name": "Python 3",
   "language": "python",
   "name": "python3"
  },
  "language_info": {
   "codemirror_mode": {
    "name": "ipython",
    "version": 3
   },
   "file_extension": ".py",
   "mimetype": "text/x-python",
   "name": "python",
   "nbconvert_exporter": "python",
   "pygments_lexer": "ipython3",
   "version": "3.7.4"
  }
 },
 "nbformat": 4,
 "nbformat_minor": 2
}
