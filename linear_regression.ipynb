{
 "cells": [
  {
   "cell_type": "code",
   "execution_count": 1,
   "metadata": {},
   "outputs": [],
   "source": [
    "import numpy as np\n",
    "import pandas as pd"
   ]
  },
  {
   "cell_type": "code",
   "execution_count": 2,
   "metadata": {},
   "outputs": [],
   "source": [
    "df1=pd.read_csv('C:\\\\Users\\PRASHANT\\\\Desktop\\\\coding dec19\\\\weather-data-in-new-york-city-2016\\\\ex1data1.csv')\n",
    "df2=pd.read_csv('C:\\\\Users\\PRASHANT\\\\Desktop\\\\coding dec19\\\\weather-data-in-new-york-city-2016\\\\ex1data2.csv')"
   ]
  },
  {
   "cell_type": "code",
   "execution_count": 3,
   "metadata": {},
   "outputs": [
    {
     "data": {
      "text/html": [
       "<div>\n",
       "<style scoped>\n",
       "    .dataframe tbody tr th:only-of-type {\n",
       "        vertical-align: middle;\n",
       "    }\n",
       "\n",
       "    .dataframe tbody tr th {\n",
       "        vertical-align: top;\n",
       "    }\n",
       "\n",
       "    .dataframe thead th {\n",
       "        text-align: right;\n",
       "    }\n",
       "</style>\n",
       "<table border=\"1\" class=\"dataframe\">\n",
       "  <thead>\n",
       "    <tr style=\"text-align: right;\">\n",
       "      <th></th>\n",
       "      <th>6.1101</th>\n",
       "      <th>17.592</th>\n",
       "    </tr>\n",
       "  </thead>\n",
       "  <tbody>\n",
       "    <tr>\n",
       "      <td>0</td>\n",
       "      <td>5.5277</td>\n",
       "      <td>9.1302</td>\n",
       "    </tr>\n",
       "    <tr>\n",
       "      <td>1</td>\n",
       "      <td>8.5186</td>\n",
       "      <td>13.6620</td>\n",
       "    </tr>\n",
       "    <tr>\n",
       "      <td>2</td>\n",
       "      <td>7.0032</td>\n",
       "      <td>11.8540</td>\n",
       "    </tr>\n",
       "    <tr>\n",
       "      <td>3</td>\n",
       "      <td>5.8598</td>\n",
       "      <td>6.8233</td>\n",
       "    </tr>\n",
       "    <tr>\n",
       "      <td>4</td>\n",
       "      <td>8.3829</td>\n",
       "      <td>11.8860</td>\n",
       "    </tr>\n",
       "  </tbody>\n",
       "</table>\n",
       "</div>"
      ],
      "text/plain": [
       "   6.1101   17.592\n",
       "0  5.5277   9.1302\n",
       "1  8.5186  13.6620\n",
       "2  7.0032  11.8540\n",
       "3  5.8598   6.8233\n",
       "4  8.3829  11.8860"
      ]
     },
     "execution_count": 3,
     "metadata": {},
     "output_type": "execute_result"
    }
   ],
   "source": [
    "df1.head()"
   ]
  },
  {
   "cell_type": "code",
   "execution_count": 4,
   "metadata": {
    "scrolled": true
   },
   "outputs": [
    {
     "data": {
      "text/html": [
       "<div>\n",
       "<style scoped>\n",
       "    .dataframe tbody tr th:only-of-type {\n",
       "        vertical-align: middle;\n",
       "    }\n",
       "\n",
       "    .dataframe tbody tr th {\n",
       "        vertical-align: top;\n",
       "    }\n",
       "\n",
       "    .dataframe thead th {\n",
       "        text-align: right;\n",
       "    }\n",
       "</style>\n",
       "<table border=\"1\" class=\"dataframe\">\n",
       "  <thead>\n",
       "    <tr style=\"text-align: right;\">\n",
       "      <th></th>\n",
       "      <th>2104</th>\n",
       "      <th>3</th>\n",
       "      <th>399900</th>\n",
       "    </tr>\n",
       "  </thead>\n",
       "  <tbody>\n",
       "    <tr>\n",
       "      <td>0</td>\n",
       "      <td>1600</td>\n",
       "      <td>3</td>\n",
       "      <td>329900</td>\n",
       "    </tr>\n",
       "    <tr>\n",
       "      <td>1</td>\n",
       "      <td>2400</td>\n",
       "      <td>3</td>\n",
       "      <td>369000</td>\n",
       "    </tr>\n",
       "    <tr>\n",
       "      <td>2</td>\n",
       "      <td>1416</td>\n",
       "      <td>2</td>\n",
       "      <td>232000</td>\n",
       "    </tr>\n",
       "    <tr>\n",
       "      <td>3</td>\n",
       "      <td>3000</td>\n",
       "      <td>4</td>\n",
       "      <td>539900</td>\n",
       "    </tr>\n",
       "    <tr>\n",
       "      <td>4</td>\n",
       "      <td>1985</td>\n",
       "      <td>4</td>\n",
       "      <td>299900</td>\n",
       "    </tr>\n",
       "  </tbody>\n",
       "</table>\n",
       "</div>"
      ],
      "text/plain": [
       "   2104  3  399900\n",
       "0  1600  3  329900\n",
       "1  2400  3  369000\n",
       "2  1416  2  232000\n",
       "3  3000  4  539900\n",
       "4  1985  4  299900"
      ]
     },
     "execution_count": 4,
     "metadata": {},
     "output_type": "execute_result"
    }
   ],
   "source": [
    "df2.head()"
   ]
  },
  {
   "cell_type": "code",
   "execution_count": 5,
   "metadata": {},
   "outputs": [],
   "source": [
    "#df1.iloc[0:2] select row 0 to 2\n",
    "#iloc select data by row no\n",
    "#loc select data by conditional statement"
   ]
  },
  {
   "cell_type": "code",
   "execution_count": 6,
   "metadata": {},
   "outputs": [],
   "source": [
    " # X=df1.iloc[[0,1],[0]] it select 0 and 1 row and 0th column\n",
    "# X=df1.iloc[1:3,[1]]    it select row 1 to row 2 (exclude row3) and column 1 (index start with 0) "
   ]
  },
  {
   "cell_type": "code",
   "execution_count": 7,
   "metadata": {},
   "outputs": [],
   "source": [
    " #it select all row and 0th column of data\n",
    "\n",
    "    # variable=earlier_data_frame_name.iloc[row_to_select:column_to_select]\n"
   ]
  },
  {
   "cell_type": "code",
   "execution_count": 8,
   "metadata": {},
   "outputs": [
    {
     "data": {
      "text/plain": [
       "(96, 1)"
      ]
     },
     "execution_count": 8,
     "metadata": {},
     "output_type": "execute_result"
    }
   ],
   "source": [
    "X=df1.iloc[:,[0]] #select  all row and 0 column no\n",
    "X.shape"
   ]
  },
  {
   "cell_type": "code",
   "execution_count": 52,
   "metadata": {},
   "outputs": [
    {
     "data": {
      "text/plain": [
       "4.590575520833333"
      ]
     },
     "execution_count": 52,
     "metadata": {},
     "output_type": "execute_result"
    }
   ],
   "source": [
    "X.mean()        #population"
   ]
  },
  {
   "cell_type": "code",
   "execution_count": 10,
   "metadata": {},
   "outputs": [],
   "source": [
    "Y=df1.iloc[:,[1]] #profit"
   ]
  },
  {
   "cell_type": "code",
   "execution_count": 51,
   "metadata": {},
   "outputs": [
    {
     "data": {
      "text/plain": [
       "17.592    5.716709\n",
       "dtype: float64"
      ]
     },
     "execution_count": 51,
     "metadata": {},
     "output_type": "execute_result"
    }
   ],
   "source": [
    "Y.mean()"
   ]
  },
  {
   "cell_type": "code",
   "execution_count": 12,
   "metadata": {},
   "outputs": [],
   "source": [
    "m,n=X.shape"
   ]
  },
  {
   "cell_type": "code",
   "execution_count": 13,
   "metadata": {},
   "outputs": [
    {
     "data": {
      "text/plain": [
       "96"
      ]
     },
     "execution_count": 13,
     "metadata": {},
     "output_type": "execute_result"
    }
   ],
   "source": [
    "m  #m contain no of rows"
   ]
  },
  {
   "cell_type": "code",
   "execution_count": 14,
   "metadata": {},
   "outputs": [
    {
     "name": "stdout",
     "output_type": "stream",
     "text": [
      "(96, 1) (96, 1)\n"
     ]
    }
   ],
   "source": [
    "#now adding a X0 as column of ones\n",
    "X1=np.ones([96,1])\n",
    "print(X1.shape,X.shape)"
   ]
  },
  {
   "cell_type": "code",
   "execution_count": 15,
   "metadata": {},
   "outputs": [],
   "source": [
    "X=np.hstack([X1,X])"
   ]
  },
  {
   "cell_type": "code",
   "execution_count": 16,
   "metadata": {},
   "outputs": [
    {
     "data": {
      "text/plain": [
       "array([[ 1.    ,  5.5277],\n",
       "       [ 1.    ,  8.5186],\n",
       "       [ 1.    ,  7.0032],\n",
       "       [ 1.    ,  5.8598],\n",
       "       [ 1.    ,  8.3829],\n",
       "       [ 1.    ,  7.4764],\n",
       "       [ 1.    ,  8.5781],\n",
       "       [ 1.    ,  6.4862],\n",
       "       [ 1.    ,  5.0546],\n",
       "       [ 1.    ,  5.7107],\n",
       "       [ 1.    , 14.164 ],\n",
       "       [ 1.    ,  5.734 ],\n",
       "       [ 1.    ,  8.4084],\n",
       "       [ 1.    ,  5.6407],\n",
       "       [ 1.    ,  5.3794],\n",
       "       [ 1.    ,  6.3654],\n",
       "       [ 1.    ,  5.1301],\n",
       "       [ 1.    ,  6.4296],\n",
       "       [ 1.    ,  7.0708],\n",
       "       [ 1.    ,  6.1891],\n",
       "       [ 1.    , 20.27  ],\n",
       "       [ 1.    ,  5.4901],\n",
       "       [ 1.    ,  6.3261],\n",
       "       [ 1.    ,  5.5649],\n",
       "       [ 1.    , 18.945 ],\n",
       "       [ 1.    , 12.828 ],\n",
       "       [ 1.    , 10.957 ],\n",
       "       [ 1.    , 13.176 ],\n",
       "       [ 1.    , 22.203 ],\n",
       "       [ 1.    ,  5.2524],\n",
       "       [ 1.    ,  6.5894],\n",
       "       [ 1.    ,  9.2482],\n",
       "       [ 1.    ,  5.8918],\n",
       "       [ 1.    ,  8.2111],\n",
       "       [ 1.    ,  7.9334],\n",
       "       [ 1.    ,  8.0959],\n",
       "       [ 1.    ,  5.6063],\n",
       "       [ 1.    , 12.836 ],\n",
       "       [ 1.    ,  6.3534],\n",
       "       [ 1.    ,  5.4069],\n",
       "       [ 1.    ,  6.8825],\n",
       "       [ 1.    , 11.708 ],\n",
       "       [ 1.    ,  5.7737],\n",
       "       [ 1.    ,  7.8247],\n",
       "       [ 1.    ,  7.0931],\n",
       "       [ 1.    ,  5.0702],\n",
       "       [ 1.    ,  5.8014],\n",
       "       [ 1.    , 11.7   ],\n",
       "       [ 1.    ,  5.5416],\n",
       "       [ 1.    ,  7.5402],\n",
       "       [ 1.    ,  5.3077],\n",
       "       [ 1.    ,  7.4239],\n",
       "       [ 1.    ,  7.6031],\n",
       "       [ 1.    ,  6.3328],\n",
       "       [ 1.    ,  6.3589],\n",
       "       [ 1.    ,  6.2742],\n",
       "       [ 1.    ,  5.6397],\n",
       "       [ 1.    ,  9.3102],\n",
       "       [ 1.    ,  9.4536],\n",
       "       [ 1.    ,  8.8254],\n",
       "       [ 1.    ,  5.1793],\n",
       "       [ 1.    , 21.279 ],\n",
       "       [ 1.    , 14.908 ],\n",
       "       [ 1.    , 18.959 ],\n",
       "       [ 1.    ,  7.2182],\n",
       "       [ 1.    ,  8.2951],\n",
       "       [ 1.    , 10.236 ],\n",
       "       [ 1.    ,  5.4994],\n",
       "       [ 1.    , 20.341 ],\n",
       "       [ 1.    , 10.136 ],\n",
       "       [ 1.    ,  7.3345],\n",
       "       [ 1.    ,  6.0062],\n",
       "       [ 1.    ,  7.2259],\n",
       "       [ 1.    ,  5.0269],\n",
       "       [ 1.    ,  6.5479],\n",
       "       [ 1.    ,  7.5386],\n",
       "       [ 1.    ,  5.0365],\n",
       "       [ 1.    , 10.274 ],\n",
       "       [ 1.    ,  5.1077],\n",
       "       [ 1.    ,  5.7292],\n",
       "       [ 1.    ,  5.1884],\n",
       "       [ 1.    ,  6.3557],\n",
       "       [ 1.    ,  9.7687],\n",
       "       [ 1.    ,  6.5159],\n",
       "       [ 1.    ,  8.5172],\n",
       "       [ 1.    ,  9.1802],\n",
       "       [ 1.    ,  6.002 ],\n",
       "       [ 1.    ,  5.5204],\n",
       "       [ 1.    ,  5.0594],\n",
       "       [ 1.    ,  5.7077],\n",
       "       [ 1.    ,  7.6366],\n",
       "       [ 1.    ,  5.8707],\n",
       "       [ 1.    ,  5.3054],\n",
       "       [ 1.    ,  8.2934],\n",
       "       [ 1.    , 13.394 ],\n",
       "       [ 1.    ,  5.4369]])"
      ]
     },
     "execution_count": 16,
     "metadata": {},
     "output_type": "execute_result"
    }
   ],
   "source": [
    "X"
   ]
  },
  {
   "cell_type": "code",
   "execution_count": 17,
   "metadata": {},
   "outputs": [],
   "source": [
    "theta=np.zeros([2,1])"
   ]
  },
  {
   "cell_type": "code",
   "execution_count": 18,
   "metadata": {},
   "outputs": [
    {
     "data": {
      "text/plain": [
       "array([[0.],\n",
       "       [0.]])"
      ]
     },
     "execution_count": 18,
     "metadata": {},
     "output_type": "execute_result"
    }
   ],
   "source": [
    "theta"
   ]
  },
  {
   "cell_type": "code",
   "execution_count": 29,
   "metadata": {},
   "outputs": [
    {
     "name": "stdout",
     "output_type": "stream",
     "text": [
      "(96, 2) <class 'numpy.ndarray'>\n"
     ]
    }
   ],
   "source": [
    "alpha=0.01\n",
    "print(X.shape,type(X))"
   ]
  },
  {
   "cell_type": "code",
   "execution_count": 30,
   "metadata": {},
   "outputs": [
    {
     "name": "stdout",
     "output_type": "stream",
     "text": [
      "(96, 1) <class 'pandas.core.frame.DataFrame'>\n"
     ]
    }
   ],
   "source": [
    "X2=X.dot(theta)-Y\n",
    "print(X2.shape,type(X2))\n",
    "X3=X2**2 #perform element wise square\n",
    "cost=(1/(2*m))*np.sum(X3)\n",
    "\n"
   ]
  },
  {
   "cell_type": "code",
   "execution_count": 31,
   "metadata": {},
   "outputs": [],
   "source": [
    "cost=float(cost)\n"
   ]
  },
  {
   "cell_type": "code",
   "execution_count": 32,
   "metadata": {},
   "outputs": [
    {
     "name": "stdout",
     "output_type": "stream",
     "text": [
      "30.79495785534583\n"
     ]
    }
   ],
   "source": [
    "print(cost)"
   ]
  },
  {
   "cell_type": "code",
   "execution_count": 43,
   "metadata": {},
   "outputs": [
    {
     "name": "stdout",
     "output_type": "stream",
     "text": [
      "(96, 1)\n",
      "<class 'numpy.ndarray'>\n"
     ]
    }
   ],
   "source": [
    "X7=np.array([X[:,1]]).T\n",
    "print(X7.shape)\n",
    "print(type(X7))"
   ]
  },
  {
   "cell_type": "code",
   "execution_count": 45,
   "metadata": {},
   "outputs": [
    {
     "name": "stdout",
     "output_type": "stream",
     "text": [
      "(96, 1) (96, 1) <class 'numpy.ndarray'> <class 'numpy.ndarray'>\n",
      "(96, 1) (96, 1) <class 'numpy.ndarray'> <class 'numpy.ndarray'>\n"
     ]
    }
   ],
   "source": [
    "#X7.shape\n",
    "#X7=pd.DataFrame(X7)\n",
    "#print(X7)\n",
    "print(X2.shape,X7.shape,type(X2),type(X7))\n",
    "X2=np.array(X2)\n",
    "X7=np.array(X7)\n",
    "X = np.array(X)\n",
    "#print(X2)\n",
    "print(X2.shape,X7.shape,type(X2),type(X7))"
   ]
  },
  {
   "cell_type": "code",
   "execution_count": 47,
   "metadata": {},
   "outputs": [
    {
     "name": "stdout",
     "output_type": "stream",
     "text": [
      "(96, 1) (96, 1) <class 'numpy.ndarray'> <class 'numpy.ndarray'>\n",
      "(96, 1)\n",
      "[[ -50.46900654]\n",
      " [-116.3811132 ]\n",
      " [ -83.0159328 ]\n",
      " [ -39.98317334]\n",
      " [ -99.6391494 ]\n",
      " [ -32.50963012]\n",
      " [-102.9372    ]\n",
      " [ -42.80048794]\n",
      " [ -19.29138636]\n",
      " [ -18.57233854]\n",
      " [-219.61282   ]\n",
      " [ -18.0913434 ]\n",
      " [ -60.75741672]\n",
      " [  -4.03975653]\n",
      " [ -18.89729426]\n",
      " [ -33.76717392]\n",
      " [  -2.87680618]\n",
      " [ -23.47961328]\n",
      " [ -38.10666244]\n",
      " [ -19.42510926]\n",
      " [-441.21709   ]\n",
      " [ -23.4042963 ]\n",
      " [ -32.81664375]\n",
      " [ -17.15380425]\n",
      " [-428.87691   ]\n",
      " [-173.190828  ]\n",
      " [ -77.2106919 ]\n",
      " [-193.581792  ]\n",
      " [-536.135841  ]\n",
      " [   6.407928  ]\n",
      " [ -39.51399604]\n",
      " [-112.2176588 ]\n",
      " [ -10.8968841 ]\n",
      " [ -53.72194286]\n",
      " [ -36.19455082]\n",
      " [ -33.32596276]\n",
      " [ -19.02105464]\n",
      " [-129.861812  ]\n",
      " [ -34.92718116]\n",
      " [  -3.00931833]\n",
      " [ -26.92089875]\n",
      " [ -63.0522632 ]\n",
      " [ -14.09129222]\n",
      " [ -52.67431546]\n",
      " [  -7.42151053]\n",
      " [ -26.02888574]\n",
      " [ -10.6977816 ]\n",
      " [ -93.65031   ]\n",
      " [  -5.64079464]\n",
      " [ -50.89936608]\n",
      " [  -9.76404492]\n",
      " [ -31.83739515]\n",
      " [ -38.00105411]\n",
      " [  -9.01347424]\n",
      " [   9.03663279]\n",
      " [ -15.53240952]\n",
      " [ -25.96630674]\n",
      " [ -36.89073648]\n",
      " [ -51.18273576]\n",
      " [ -45.62202276]\n",
      " [   3.84713225]\n",
      " [-381.511191  ]\n",
      " [-179.701032  ]\n",
      " [-323.326786  ]\n",
      " [ -35.26235064]\n",
      " [ -47.64871342]\n",
      " [ -79.5889944 ]\n",
      " [  -5.59453962]\n",
      " [-426.998272  ]\n",
      " [ -67.7074664 ]\n",
      " [ -29.52796355]\n",
      " [  -7.67832608]\n",
      " [ -24.14245449]\n",
      " [  13.47561083]\n",
      " [  -1.94328576]\n",
      " [ -29.2836917 ]\n",
      " [ -28.7151011 ]\n",
      " [ -69.3762124 ]\n",
      " [ -10.50960352]\n",
      " [  -2.74732328]\n",
      " [  -1.05952316]\n",
      " [  -4.31304158]\n",
      " [ -73.69018845]\n",
      " [ -34.81836324]\n",
      " [ -36.1257038 ]\n",
      " [ -62.40791762]\n",
      " [  -5.5635539 ]\n",
      " [  -0.8391008 ]\n",
      " [ -14.27459116]\n",
      " [ -10.53127727]\n",
      " [ -32.80606994]\n",
      " [ -42.28606503]\n",
      " [ -10.54129926]\n",
      " [  -1.19872804]\n",
      " [-121.2840094 ]\n",
      " [  -3.35483914]]\n"
     ]
    }
   ],
   "source": [
    "\n",
    "X2=np.array(X.dot(theta)-Y)\n",
    "X4=(1/m)*np.sum(X2)*alpha\n",
    "print(X2.shape,X7.shape,type(X2),type(X7))\n",
    "X5=X2*X7\n",
    "#X7=np.zeroes()\n",
    "#print(\"x2 x7 product is \",X2*X7)\n",
    "\n",
    "#for i1 in range(m):\n",
    "    \n",
    "print(X5.shape)\n",
    "#print(X2)\n",
    "#print(X7)\n",
    "print(X5)"
   ]
  },
  {
   "cell_type": "code",
   "execution_count": 48,
   "metadata": {},
   "outputs": [
    {
     "name": "stdout",
     "output_type": "stream",
     "text": [
      "(1,)\n"
     ]
    },
    {
     "data": {
      "text/plain": [
       "()"
      ]
     },
     "execution_count": 48,
     "metadata": {},
     "output_type": "execute_result"
    }
   ],
   "source": [
    "X6=(1/m)*np.sum(X5)*alpha\n",
    "print(theta[1].shape)\n",
    "X6.shape"
   ]
  },
  {
   "cell_type": "code",
   "execution_count": 49,
   "metadata": {},
   "outputs": [
    {
     "name": "stdout",
     "output_type": "stream",
     "text": [
      "30.79495785534583\n"
     ]
    }
   ],
   "source": [
    "X2=X.dot(theta)-Y\n",
    "X3=X2**2 #perform element wise square\n",
    "cost=(1/(2*m))*np.sum(X3)\n",
    "cost=float(cost)\n",
    "print(cost)"
   ]
  },
  {
   "cell_type": "code",
   "execution_count": 50,
   "metadata": {},
   "outputs": [
    {
     "name": "stdout",
     "output_type": "stream",
     "text": [
      "i1 = 0, cost = 5.901469393444239 \n",
      "i1 = 100, cost = 4.6246435813266675 \n",
      "i1 = 200, cost = 4.2711910513608515 \n",
      "i1 = 300, cost = 4.024967772240886 \n",
      "i1 = 400, cost = 3.8534428911303977 \n",
      "i1 = 500, cost = 3.7339546569345026 \n",
      "i1 = 600, cost = 3.650716365097088 \n",
      "i1 = 700, cost = 3.592730628889357 \n",
      "i1 = 800, cost = 3.5523364121252734 \n",
      "i1 = 900, cost = 3.5241968582505376 \n",
      "i1 = 1000, cost = 3.504594188470013 \n",
      "i1 = 1100, cost = 3.490938511331888 \n",
      "i1 = 1200, cost = 3.4814256480235457 \n",
      "i1 = 1300, cost = 3.474798765489061 \n",
      "i1 = 1400, cost = 3.4701823244972783 \n"
     ]
    }
   ],
   "source": [
    "\n",
    "\n",
    "for i1 in range(1500):\n",
    "    X2=X.dot(theta)-Y\n",
    "    X4=(1/m)*np.sum(X2)*alpha\n",
    "    X5=X2*X7\n",
    "    X6=(1/m)*np.sum(X5)*alpha\n",
    "    \n",
    "    theta[0]=theta[0]-X4\n",
    "    theta[1]=theta[1]-X6\n",
    "    #calculating cost after each iteration\n",
    "    X2=X.dot(theta)-Y\n",
    "    X3=X2**2 #perform element wise square\n",
    "    cost=(1/(2*m))*np.sum(X3)\n",
    "    cost=float(cost)\n",
    "    if i1%100==0:\n",
    "        print(\"i1 = {}, cost = {} \".format(i1,cost))\n",
    "    "
   ]
  },
  {
   "cell_type": "code",
   "execution_count": null,
   "metadata": {},
   "outputs": [],
   "source": [
    "print(theta)"
   ]
  },
  {
   "cell_type": "code",
   "execution_count": null,
   "metadata": {},
   "outputs": [],
   "source": []
  }
 ],
 "metadata": {
  "kernelspec": {
   "display_name": "Python 3",
   "language": "python",
   "name": "python3"
  },
  "language_info": {
   "codemirror_mode": {
    "name": "ipython",
    "version": 3
   },
   "file_extension": ".py",
   "mimetype": "text/x-python",
   "name": "python",
   "nbconvert_exporter": "python",
   "pygments_lexer": "ipython3",
   "version": "3.7.4"
  }
 },
 "nbformat": 4,
 "nbformat_minor": 2
}
